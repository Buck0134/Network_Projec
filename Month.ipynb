{
 "cells": [
  {
   "cell_type": "code",
   "execution_count": null,
   "metadata": {},
   "outputs": [],
   "source": [
    "import networkx as nx\n",
    "import pandas as pd\n",
    "import matplotlib.pyplot as plt\n",
    "import numpy as np"
   ]
  },
  {
   "cell_type": "code",
   "execution_count": null,
   "metadata": {},
   "outputs": [],
   "source": [
    "months = ['01', '02', '03', '04', '05', '06', '07', '08', '09', '10', '11', '12']\n",
    "num_days = [31, 28, 31, 30, 31, 30, 31, 31, 30, 31, 30, 31]\n",
    "num_edges_per_day = []\n",
    "avg_in_degree_per_day = []\n",
    "\n",
    "for month in months:\n",
    "    print(f'Processing month {month}')\n",
    "    data = pd.read_csv(f'Data/2022{month}-citibike-tripdata.csv', low_memory=False)\n",
    "    G = nx.from_pandas_edgelist(data, 'start_station_name', 'end_station_name', create_using=nx.MultiDiGraph())\n",
    "    num_edges_per_day.append(len(G.edges)/num_days[months.index(month)])\n",
    "    avg_in_degree_per_day.append(sum(dict(G.in_degree()).values()) / len(G) / num_days[months.index(month)])"
   ]
  },
  {
   "cell_type": "code",
   "execution_count": null,
   "metadata": {},
   "outputs": [],
   "source": [
    "import matplotlib.colors as mcolors\n",
    "\n",
    "colors = [(0.1, 0.4, 1), (1, 0.15, 0.15)]  # Blue to Red\n",
    "cmap_name = 'temperature'\n",
    "custom_cmap = mcolors.LinearSegmentedColormap.from_list(cmap_name, colors, N=len(months))\n",
    "\n",
    "# tentative temperature data corresponding to each month\n",
    "temperatures = np.array([0, 5, 10, 15, 20, 25, 30, 25, 20, 15, 10, 5])\n",
    "normalized_temperatures = (temperatures - min(temperatures)) / (max(temperatures) - min(temperatures))\n",
    "\n",
    "# Create a bar chart with custom colormap for temperature\n",
    "plt.bar(months, np.array(num_edges_per_day)/1000, color=custom_cmap(normalized_temperatures))\n",
    "plt.title(\"Average Daily No. of Trips (in thousands)\")\n",
    "plt.xlabel(\"Month\")\n",
    "\n",
    "# Create a colorbar to indicate temperature scale\n",
    "sm = plt.cm.ScalarMappable(cmap=custom_cmap, norm=plt.Normalize(vmin=np.min(temperatures), vmax=np.max(temperatures)))\n",
    "sm.set_array([])  # Dummy array for the colorbar\n",
    "cbar = plt.colorbar(sm)\n",
    "cbar.set_label('Temperature (Celsius)')\n",
    "\n",
    "plt.show()"
   ]
  }
 ],
 "metadata": {
  "language_info": {
   "name": "python"
  }
 },
 "nbformat": 4,
 "nbformat_minor": 2
}
