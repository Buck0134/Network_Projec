{
 "cells": [
  {
   "cell_type": "code",
   "execution_count": 1,
   "metadata": {},
   "outputs": [],
   "source": [
    "import networkx as nx\n",
    "import pandas as pd\n",
    "\n",
    "data = pd.read_csv('Processed_Data.csv')"
   ]
  },
  {
   "cell_type": "code",
   "execution_count": 2,
   "metadata": {},
   "outputs": [],
   "source": [
    "class Station:\n",
    "    def __init__(self, name):\n",
    "        self.name = name\n",
    "        self.connected_stations = set()\n",
    "        self.net_flow = 0\n",
    "        self.latitude = 0\n",
    "        self.longitude = 0\n",
    "        self.out_degree = 0\n",
    "        self.in_degree = 0\n",
    "        self.betweenness = 0\n",
    "        \n",
    "    def __str__(self):\n",
    "        return (f\"Station: {self.name}\\n\"\n",
    "                f\"Outgoing Edges: {self.out_degree}\\n\"\n",
    "                f\"Incoming Edges: {self.in_degree}\\n\"\n",
    "                f\"Connected Stations: {len(self.connected_stations)}\\n\"\n",
    "                f\"Net Flow: {self.net_flow}\"\n",
    "                f\"latitude: {self.latitude}\\n\"\n",
    "                f\"longitude: {self.longitude}\\n\")"
   ]
  },
  {
   "cell_type": "code",
   "execution_count": 9,
   "metadata": {},
   "outputs": [],
   "source": [
    "def create_station_array(edge_data):\n",
    "    G = nx.from_pandas_edgelist(edge_data, 'start_station_name', 'end_station_name', create_using=nx.MultiDiGraph())\n",
    "    \n",
    "    # Create a dictionary to store Station objects by name\n",
    "    stations = {}\n",
    "    \n",
    "    # Helper function to handle or update station information\n",
    "    def handle_station(station_name, lat, lng):\n",
    "        if station_name not in stations:\n",
    "            station = Station(station_name)\n",
    "            station.latitude = lat\n",
    "            station.longitude = lng\n",
    "            stations[station_name] = station\n",
    "        else:\n",
    "            station = stations[station_name]\n",
    "    \n",
    "    # Iterate over each edge data and update or create stations\n",
    "    for _, row in edge_data.iterrows():\n",
    "        handle_station(row['start_station_name'], row['start_lat'], row['start_lng'])\n",
    "        handle_station(row['end_station_name'], row['end_lat'], row['end_lng'])\n",
    "    \n",
    "    out_degrees = dict(G.out_degree())\n",
    "    for key in out_degrees.keys():\n",
    "        stations[key].out_degree = out_degrees[key]\n",
    "    \n",
    "    in_degrees = dict(G.in_degree())\n",
    "    for key in in_degrees.keys():\n",
    "        stations[key].in_degree = in_degrees[key]\n",
    "    \n",
    "    betweenness = nx.betweenness_centrality(G)\n",
    "    for key in betweenness.keys():\n",
    "        stations[key].betweenness = betweenness[key]\n",
    "    \n",
    "    # Now that we have updated edge counts, we can calculate other properties for each station\n",
    "    for station in stations.values():\n",
    "        station.connected_stations = set(G.neighbors(station.name))\n",
    "        station.net_flow = station.out_degree - station.in_degree\n",
    "\n",
    "    # Convert the dictionary values (Station objects) to a list and sort by outgoing edges\n",
    "    sorted_stations = sorted(stations.values(), key=lambda x: x.out_degree, reverse=True)\n",
    "\n",
    "    return sorted_stations"
   ]
  },
  {
   "cell_type": "code",
   "execution_count": 7,
   "metadata": {},
   "outputs": [],
   "source": [
    "import folium\n",
    "\n",
    "def create_map(stations, attribute, title):\n",
    "    \"\"\"\n",
    "    Creates a map visualization with marker sizes based on a given attribute of stations.\n",
    "    \n",
    "    Parameters:\n",
    "    - stations: List of Station objects\n",
    "    - attribute: Attribute of Station (e.g., 'out_degree', 'in_degree', 'net_flow')\n",
    "    - title: Title of the map\n",
    "    \"\"\"\n",
    "    # Find min and max of the attribute\n",
    "    min_val = min([getattr(station, attribute) for station in stations])\n",
    "    max_val = max([getattr(station, attribute) for station in stations])\n",
    "\n",
    "    # Create base map\n",
    "    m = folium.Map(location=[data['start_lat'].mean(), data['start_lng'].mean()], zoom_start=13)\n",
    "\n",
    "    # Loop through stations and add them to the map\n",
    "    for station in stations:\n",
    "        value = getattr(station, attribute)\n",
    "        \n",
    "        # Normalize the attribute value to fall in the range [10, 50] for marker sizes\n",
    "        normalized_size = 10 + 40 * (value - min_val) / (max_val - min_val)\n",
    "\n",
    "        folium.CircleMarker(\n",
    "            location=(station.latitude, station.longitude), # lat, lng\n",
    "            radius=normalized_size,\n",
    "            fill=True,\n",
    "            fill_color='green' if value > 0 else 'red',\n",
    "            color='green' if value > 0 else 'red',\n",
    "            fill_opacity=0.6,\n",
    "            tooltip=f\"{station.name}: {value}\"\n",
    "        ).add_to(m)\n",
    "    \n",
    "    m.save(f'./Graphs/{title}.html')"
   ]
  },
  {
   "cell_type": "code",
   "execution_count": 10,
   "metadata": {},
   "outputs": [],
   "source": [
    "sorted_stations_list = create_station_array(data)"
   ]
  },
  {
   "cell_type": "code",
   "execution_count": 11,
   "metadata": {},
   "outputs": [],
   "source": [
    "create_map(sorted_stations_list, 'net_flow', 'Net Flow Map')\n",
    "create_map(sorted_stations_list, 'betweenness', 'Betweenness Map')\n",
    "create_map(sorted_stations_list, 'out_degree', 'Out Degree Map')\n",
    "create_map(sorted_stations_list, 'in_degree', 'In Degree Map')"
   ]
  },
  {
   "cell_type": "code",
   "execution_count": null,
   "metadata": {},
   "outputs": [],
   "source": [
    "for station in sorted_stations_list:\n",
    "    print(station)\n",
    "    print(\"----------------------------\")"
   ]
  }
 ],
 "metadata": {
  "kernelspec": {
   "display_name": "Python 3",
   "language": "python",
   "name": "python3"
  },
  "language_info": {
   "codemirror_mode": {
    "name": "ipython",
    "version": 3
   },
   "file_extension": ".py",
   "mimetype": "text/x-python",
   "name": "python",
   "nbconvert_exporter": "python",
   "pygments_lexer": "ipython3",
   "version": "3.10.8"
  },
  "orig_nbformat": 4
 },
 "nbformat": 4,
 "nbformat_minor": 2
}
