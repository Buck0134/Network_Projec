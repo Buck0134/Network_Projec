{
 "cells": [
  {
   "cell_type": "code",
   "execution_count": 1,
   "metadata": {},
   "outputs": [],
   "source": [
    "import pandas as pd\n",
    "import numpy as np\n",
    "import networkx as nx"
   ]
  },
  {
   "cell_type": "code",
   "execution_count": 2,
   "metadata": {},
   "outputs": [],
   "source": [
    "data = pd.read_csv('202304-citibike-tripdata.csv', low_memory=False)"
   ]
  },
  {
   "cell_type": "code",
   "execution_count": 7,
   "metadata": {},
   "outputs": [],
   "source": [
    "# change the start_station_id column to Source and end_station_id column to Target\n",
    "data = data.rename(columns={'start_station_id': 'Source', 'end_station_id': 'Target'})\n",
    "pd.DataFrame.to_csv(data, '202304-citibike-tripdata-gephi.csv', index=False)"
   ]
  },
  {
   "cell_type": "code",
   "execution_count": 3,
   "metadata": {},
   "outputs": [],
   "source": [
    "data['started_at'] = pd.to_datetime(data['started_at'])\n",
    "data['start_day'] = data['started_at'].dt.dayofweek"
   ]
  },
  {
   "cell_type": "code",
   "execution_count": 4,
   "metadata": {},
   "outputs": [],
   "source": [
    "weekday_data = data[data['start_day'] < 5]\n",
    "pd.DataFrame.to_csv(weekday_data, '202304-citibike-weekday_data.csv')"
   ]
  },
  {
   "cell_type": "code",
   "execution_count": 5,
   "metadata": {},
   "outputs": [],
   "source": [
    "weekend_data = data[data['start_day'] >= 5]\n",
    "pd.DataFrame.to_csv(weekend_data, '202304-citibike-weekend_data.csv')"
   ]
  },
  {
   "cell_type": "code",
   "execution_count": 6,
   "metadata": {},
   "outputs": [
    {
     "name": "stdout",
     "output_type": "stream",
     "text": [
      "Number of weekdays: 20\n",
      "Number of weekends: 10\n"
     ]
    }
   ],
   "source": [
    "print('Number of weekdays:', len(weekday_data['started_at'].dt.day.unique()))\n",
    "print('Number of weekends:', len(weekend_data['started_at'].dt.day.unique()))"
   ]
  }
 ],
 "metadata": {
  "kernelspec": {
   "display_name": "Python 3",
   "language": "python",
   "name": "python3"
  },
  "language_info": {
   "codemirror_mode": {
    "name": "ipython",
    "version": 3
   },
   "file_extension": ".py",
   "mimetype": "text/x-python",
   "name": "python",
   "nbconvert_exporter": "python",
   "pygments_lexer": "ipython3",
   "version": "3.10.8"
  },
  "orig_nbformat": 4
 },
 "nbformat": 4,
 "nbformat_minor": 2
}
